{
 "cells": [
  {
   "cell_type": "markdown",
   "id": "fb6b1a63-6d9d-43f5-9a89-6734de56ff39",
   "metadata": {},
   "source": [
    "# Evaluate Runtime\n",
    "Plot the runtime as a function of molecule size"
   ]
  },
  {
   "cell_type": "code",
   "execution_count": 1,
   "id": "4e14ed54-17fc-47c3-a4db-5a4f53f69241",
   "metadata": {},
   "outputs": [],
   "source": [
    "%matplotlib inline \n",
    "from matplotlib import pyplot as plt\n",
    "from pathlib import Path\n",
    "import pandas as pd\n",
    "import re"
   ]
  },
  {
   "cell_type": "markdown",
   "id": "116d8f7a-8e7a-4174-85d0-c0b4a6474b03",
   "metadata": {},
   "source": [
    "## Load Results\n",
    "Get the runtime from the log files and store the number of heavy atoms."
   ]
  },
  {
   "cell_type": "code",
   "execution_count": 2,
   "id": "00dd7b18-71be-4161-882e-0a2041daeb29",
   "metadata": {},
   "outputs": [
    {
     "name": "stdout",
     "output_type": "stream",
     "text": [
      "Found 201 runs\n"
     ]
    }
   ],
   "source": [
    "logs = list(Path('runs/').rglob('runtime.log'))\n",
    "print(f'Found {len(logs)} runs')"
   ]
  },
  {
   "cell_type": "code",
   "execution_count": 7,
   "id": "32ccb3b5-ad9d-4890-bb1a-aadc837a3a64",
   "metadata": {},
   "outputs": [],
   "source": [
    "def summarize_log(path: Path) -> dict:\n",
    "    \"\"\"Get the size of the molecule and the runtime\"\"\"\n",
    "\n",
    "    # Get the chemical formula\n",
    "    summary = {\n",
    "        'formula': path.parent.name\n",
    "    }\n",
    "\n",
    "    # Count the heavy atoms\n",
    "    heavy_count = 0\n",
    "    for elem, amount in re.findall(r'([A-Z][a-z]?)(\\d*)', summary['formula']):\n",
    "        if elem != \"H\":\n",
    "            heavy_count += int(amount or 1)\n",
    "    summary['heavy_count'] = heavy_count\n",
    "\n",
    "    # Load the runtime\n",
    "    with path.open() as fp:\n",
    "        for line in fp:\n",
    "            # Get the first occurance\n",
    "            if 'Runtime:' in line:\n",
    "                summary['runtime'] = float(line.split()[-1][:-1])\n",
    "                break\n",
    "        else:\n",
    "            print(f'{path} not finished')\n",
    "    return summary\n",
    "            "
   ]
  },
  {
   "cell_type": "code",
   "execution_count": 8,
   "id": "57210c6d-568a-4355-8d12-6fad73a8bc4c",
   "metadata": {},
   "outputs": [
    {
     "data": {
      "text/html": [
       "<div>\n",
       "<style scoped>\n",
       "    .dataframe tbody tr th:only-of-type {\n",
       "        vertical-align: middle;\n",
       "    }\n",
       "\n",
       "    .dataframe tbody tr th {\n",
       "        vertical-align: top;\n",
       "    }\n",
       "\n",
       "    .dataframe thead th {\n",
       "        text-align: right;\n",
       "    }\n",
       "</style>\n",
       "<table border=\"1\" class=\"dataframe\">\n",
       "  <thead>\n",
       "    <tr style=\"text-align: right;\">\n",
       "      <th></th>\n",
       "      <th>formula</th>\n",
       "      <th>heavy_count</th>\n",
       "      <th>runtime</th>\n",
       "    </tr>\n",
       "  </thead>\n",
       "  <tbody>\n",
       "    <tr>\n",
       "      <th>0</th>\n",
       "      <td>C7H4F4</td>\n",
       "      <td>11</td>\n",
       "      <td>6.17</td>\n",
       "    </tr>\n",
       "    <tr>\n",
       "      <th>1</th>\n",
       "      <td>C10H14OS</td>\n",
       "      <td>12</td>\n",
       "      <td>12.33</td>\n",
       "    </tr>\n",
       "    <tr>\n",
       "      <th>2</th>\n",
       "      <td>C7H6O3</td>\n",
       "      <td>10</td>\n",
       "      <td>6.89</td>\n",
       "    </tr>\n",
       "    <tr>\n",
       "      <th>3</th>\n",
       "      <td>C4H5N</td>\n",
       "      <td>5</td>\n",
       "      <td>6.22</td>\n",
       "    </tr>\n",
       "    <tr>\n",
       "      <th>4</th>\n",
       "      <td>C4H11NO</td>\n",
       "      <td>6</td>\n",
       "      <td>6.17</td>\n",
       "    </tr>\n",
       "  </tbody>\n",
       "</table>\n",
       "</div>"
      ],
      "text/plain": [
       "    formula  heavy_count  runtime\n",
       "0    C7H4F4           11     6.17\n",
       "1  C10H14OS           12    12.33\n",
       "2    C7H6O3           10     6.89\n",
       "3     C4H5N            5     6.22\n",
       "4   C4H11NO            6     6.17"
      ]
     },
     "execution_count": 8,
     "metadata": {},
     "output_type": "execute_result"
    }
   ],
   "source": [
    "all_runs = pd.DataFrame([summarize_log(c) for c in logs])\n",
    "all_runs.head()"
   ]
  },
  {
   "cell_type": "markdown",
   "id": "b7a4e6b4-ffb3-41f5-8159-979f4f88cae3",
   "metadata": {},
   "source": [
    "Print summaries"
   ]
  },
  {
   "cell_type": "code",
   "execution_count": 9,
   "id": "6fc8c70d-ab07-4b73-946e-967a1347733a",
   "metadata": {},
   "outputs": [
    {
     "data": {
      "text/html": [
       "<div>\n",
       "<style scoped>\n",
       "    .dataframe tbody tr th:only-of-type {\n",
       "        vertical-align: middle;\n",
       "    }\n",
       "\n",
       "    .dataframe tbody tr th {\n",
       "        vertical-align: top;\n",
       "    }\n",
       "\n",
       "    .dataframe thead th {\n",
       "        text-align: right;\n",
       "    }\n",
       "</style>\n",
       "<table border=\"1\" class=\"dataframe\">\n",
       "  <thead>\n",
       "    <tr style=\"text-align: right;\">\n",
       "      <th></th>\n",
       "      <th>heavy_count</th>\n",
       "      <th>runtime</th>\n",
       "    </tr>\n",
       "  </thead>\n",
       "  <tbody>\n",
       "    <tr>\n",
       "      <th>count</th>\n",
       "      <td>201.000000</td>\n",
       "      <td>201.000000</td>\n",
       "    </tr>\n",
       "    <tr>\n",
       "      <th>mean</th>\n",
       "      <td>10.860697</td>\n",
       "      <td>15.179602</td>\n",
       "    </tr>\n",
       "    <tr>\n",
       "      <th>std</th>\n",
       "      <td>3.435185</td>\n",
       "      <td>13.792676</td>\n",
       "    </tr>\n",
       "    <tr>\n",
       "      <th>min</th>\n",
       "      <td>4.000000</td>\n",
       "      <td>4.390000</td>\n",
       "    </tr>\n",
       "    <tr>\n",
       "      <th>25%</th>\n",
       "      <td>10.000000</td>\n",
       "      <td>6.420000</td>\n",
       "    </tr>\n",
       "    <tr>\n",
       "      <th>50%</th>\n",
       "      <td>11.000000</td>\n",
       "      <td>8.810000</td>\n",
       "    </tr>\n",
       "    <tr>\n",
       "      <th>75%</th>\n",
       "      <td>12.000000</td>\n",
       "      <td>19.240000</td>\n",
       "    </tr>\n",
       "    <tr>\n",
       "      <th>max</th>\n",
       "      <td>26.000000</td>\n",
       "      <td>84.270000</td>\n",
       "    </tr>\n",
       "  </tbody>\n",
       "</table>\n",
       "</div>"
      ],
      "text/plain": [
       "       heavy_count     runtime\n",
       "count   201.000000  201.000000\n",
       "mean     10.860697   15.179602\n",
       "std       3.435185   13.792676\n",
       "min       4.000000    4.390000\n",
       "25%      10.000000    6.420000\n",
       "50%      11.000000    8.810000\n",
       "75%      12.000000   19.240000\n",
       "max      26.000000   84.270000"
      ]
     },
     "execution_count": 9,
     "metadata": {},
     "output_type": "execute_result"
    }
   ],
   "source": [
    "all_runs.describe()"
   ]
  },
  {
   "cell_type": "markdown",
   "id": "fddd1340-2c66-46d0-8fba-2cc40068a5fd",
   "metadata": {},
   "source": [
    "## Runtime vs Size\n",
    "Plot how the size of the molecule affects the count"
   ]
  },
  {
   "cell_type": "code",
   "execution_count": 10,
   "id": "2eb256ea-221d-47f7-8728-5954170025de",
   "metadata": {},
   "outputs": [
    {
     "data": {
      "text/plain": [
       "Text(0, 0.5, 'Runtime')"
      ]
     },
     "execution_count": 10,
     "metadata": {},
     "output_type": "execute_result"
    },
    {
     "data": {
      "image/png": "[encoded data removed]",
      "text/plain": [
       "<Figure size 350x250 with 1 Axes>"
      ]
     },
     "metadata": {},
     "output_type": "display_data"
    }
   ],
   "source": [
    "fig, ax = plt.subplots(figsize=(3.5, 2.5))\n",
    "\n",
    "ax.scatter(all_runs['heavy_count'], all_runs['runtime'])\n",
    "\n",
    "ax.set_xlabel('Heavy Count (s)')\n",
    "ax.set_ylabel('Runtime')"
   ]
  },
  {
   "cell_type": "code",
   "execution_count": null,
   "id": "35923afe-e102-4daa-bb38-8aefe32a2a36",
   "metadata": {},
   "outputs": [],
   "source": []
  }
 ],
 "metadata": {
  "kernelspec": {
   "display_name": "Python 3 (ipykernel)",
   "language": "python",
   "name": "python3"
  },
  "language_info": {
   "codemirror_mode": {
    "name": "ipython",
    "version": 3
   },
   "file_extension": ".py",
   "mimetype": "text/x-python",
   "name": "python",
   "nbconvert_exporter": "python",
   "pygments_lexer": "ipython3",
   "version": "3.11.0"
  }
 },
 "nbformat": 4,
 "nbformat_minor": 5
}
