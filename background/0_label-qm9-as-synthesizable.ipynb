{
 "cells": [
  {
   "cell_type": "markdown",
   "id": "37c48459-9f02-4aa7-8fe3-36c3fdf128d9",
   "metadata": {},
   "source": [
    "# Label QM9 as Synthesizable or Not\n",
    "QM9 is a well-known is a well-known dataset of molecular energies spanning most molecules with sizes between 1 and 9 heavy atoms. \n",
    "Given the small size of molecules, we assume that if it has not been reported in the literature and referenced in PubChem by now then it is not synthesizable.\n",
    "Not a perfect assumption, but one we can use to get a rough idea about thermodynamic bounds of molecular synthesizability."
   ]
  },
  {
   "cell_type": "code",
   "execution_count": 1,
   "id": "e7de5f52-1666-4bcf-9a82-b05415004c1e",
   "metadata": {},
   "outputs": [],
   "source": [
    "from emin.source import get_molecules_from_pubchem\n",
    "from rdkit import Chem, RDLogger\n",
    "from pathlib import Path\n",
    "from tqdm import tqdm\n",
    "import pandas as pd\n",
    "import requests\n",
    "RDLogger.DisableLog('rdApp.*')"
   ]
  },
  {
   "cell_type": "markdown",
   "id": "c64e356f-d828-44a8-b3a2-519777823ded",
   "metadata": {},
   "source": [
    "## Download QM9-G4MP2\n",
    "We are going to use [a version of QM9 with energies computed at the high-accuracy, G4MP2 level](https://pubs.rsc.org/en/content/articlehtml/2019/sc/c9sc02834j) as a starting point."
   ]
  },
  {
   "cell_type": "code",
   "execution_count": 2,
   "id": "5258a3a0-7a52-4731-81ad-f23832d65537",
   "metadata": {},
   "outputs": [
    {
     "name": "stdout",
     "output_type": "stream",
     "text": [
      "Loaded 130258 molecules\n",
      "CPU times: user 7.23 s, sys: 3.13 s, total: 10.4 s\n",
      "Wall time: 14.9 s\n"
     ]
    }
   ],
   "source": [
    "%%time\n",
    "qm9 = pd.read_json('https://github.com/globus-labs/g4mp2-atomization-energy/raw/master/data/output/g4mp2_data.json.gz', lines=True)\n",
    "print(f'Loaded {len(qm9)} molecules')"
   ]
  },
  {
   "cell_type": "markdown",
   "id": "b8b7b7a7-9e94-4462-a9e8-38373fcd54d2",
   "metadata": {},
   "source": [
    "Remove duplicates"
   ]
  },
  {
   "cell_type": "code",
   "execution_count": 3,
   "id": "3f3bf042-ae75-4567-891f-d88c32a30ec6",
   "metadata": {},
   "outputs": [
    {
     "name": "stdout",
     "output_type": "stream",
     "text": [
      "Trimmed down to 126405 unique molecules\n"
     ]
    }
   ],
   "source": [
    "qm9.sort_values('g4mp2_0k', ascending=True)\n",
    "qm9.drop_duplicates('inchi_0', inplace=True, keep='first')\n",
    "print(f'Trimmed down to {len(qm9)} unique molecules')"
   ]
  },
  {
   "cell_type": "markdown",
   "id": "6e533385-93f3-4708-aed9-b1ea1240c436",
   "metadata": {},
   "source": [
    "## Compute Composition\n",
    "Get the chemical composition of each, which we're going to use to find whether they are in PubChem"
   ]
  },
  {
   "cell_type": "code",
   "execution_count": 4,
   "id": "cd2a3b23-15cc-492b-8cad-bd42f69bc9a7",
   "metadata": {},
   "outputs": [],
   "source": [
    "def get_composition(inchi: str):\n",
    "    \"\"\"Get the chemical composition from an InChI string\n",
    "    \n",
    "    Args:\n",
    "        inchi: InChI string\n",
    "    Returns:\n",
    "        Chemical formula\n",
    "    \"\"\"\n",
    "    return inchi.split(\"/\")[1]"
   ]
  },
  {
   "cell_type": "code",
   "execution_count": 5,
   "id": "28efb2c7-5bd5-4b99-ae92-f93955ef9aca",
   "metadata": {},
   "outputs": [],
   "source": [
    "qm9['formula'] = qm9.inchi_1.apply(get_composition)"
   ]
  },
  {
   "cell_type": "markdown",
   "id": "0d9f8ff7-6cfb-40ff-bcb0-177d6e9afe5e",
   "metadata": {},
   "source": [
    "## Find in PubChem\n",
    "PubChem has a [fantastic API](https://pubchem.ncbi.nlm.nih.gov/docs/pug-rest) and we can use it to find which molecules held within QM9 are also in PubChem"
   ]
  },
  {
   "cell_type": "markdown",
   "id": "c04e9086-4d54-4a96-8869-291978e0fd50",
   "metadata": {},
   "source": [
    "Start by getting an InChI Key, which we can use to detect whether molecules are held in PubChem"
   ]
  },
  {
   "cell_type": "code",
   "execution_count": 6,
   "id": "f1ff93b5-63d3-4be9-87e3-874fe5763e94",
   "metadata": {},
   "outputs": [
    {
     "name": "stdout",
     "output_type": "stream",
     "text": [
      "CPU times: user 1min 29s, sys: 18.3 s, total: 1min 48s\n",
      "Wall time: 2min 3s\n"
     ]
    }
   ],
   "source": [
    "%%time\n",
    "qm9['inchi_key'] = qm9['inchi_1'].apply(Chem.MolFromInchi).apply(lambda x: Chem.MolToInchiKey(x) if x is not None else x)"
   ]
  },
  {
   "cell_type": "markdown",
   "id": "0b24ea1e-ceac-4095-a19e-969a14386741",
   "metadata": {},
   "source": [
    "Make a function that gets every InChI key, including charged species and stereoisomers"
   ]
  },
  {
   "cell_type": "code",
   "execution_count": 7,
   "id": "fb08a6fd-04c0-4f2d-83ab-8f89f0128f80",
   "metadata": {},
   "outputs": [
    {
     "data": {
      "text/plain": [
       "{'RECVMTHOQWMYFX-UHFFFAOYSA-N',\n",
       " 'UKEUXZKBWBZANT-UHFFFAOYSA-M',\n",
       " 'XLYOFNOQVPJJNP-AKLPVKDBSA-N',\n",
       " 'XLYOFNOQVPJJNP-BJUDXGSMSA-N',\n",
       " 'XLYOFNOQVPJJNP-DYCDLGHISA-N',\n",
       " 'XLYOFNOQVPJJNP-FTGQXOHASA-N',\n",
       " 'XLYOFNOQVPJJNP-IGMARMGPSA-N',\n",
       " 'XLYOFNOQVPJJNP-LAPWFLRPSA-N',\n",
       " 'XLYOFNOQVPJJNP-MNYXATJNSA-N',\n",
       " 'XLYOFNOQVPJJNP-NAQDNALJSA-N',\n",
       " 'XLYOFNOQVPJJNP-NJFSPNSNSA-N',\n",
       " 'XLYOFNOQVPJJNP-OIOBTWANSA-N',\n",
       " 'XLYOFNOQVPJJNP-OUBTZVSYSA-N',\n",
       " 'XLYOFNOQVPJJNP-PWCQTSIFSA-N',\n",
       " 'XLYOFNOQVPJJNP-TXJFRLKBSA-N',\n",
       " 'XLYOFNOQVPJJNP-UHFFFAOYSA-N',\n",
       " 'XLYOFNOQVPJJNP-YOGHCVPTSA-N',\n",
       " 'XLYOFNOQVPJJNP-YPZZEJLDSA-N',\n",
       " 'XLYOFNOQVPJJNP-ZSJDYOACSA-N'}"
      ]
     },
     "execution_count": 7,
     "metadata": {},
     "output_type": "execute_result"
    }
   ],
   "source": [
    "def get_inchi_keys(formula: str) -> set[str]:\n",
    "    \"\"\"Get the InChI keys of all molecules in PubChem with a certain formula\n",
    "    \n",
    "    Args:\n",
    "        formula: Formula in question\n",
    "    Returns:\n",
    "        List of InChI keys\n",
    "    \"\"\"\n",
    "    res = requests.get(f'https://pubchem.ncbi.nlm.nih.gov/rest/pug/compound/fastformula/{formula}/property/InChIKey/TXT')\n",
    "    return set(res.content.decode().split())\n",
    "get_inchi_keys('H2O')"
   ]
  },
  {
   "cell_type": "markdown",
   "id": "9991464a-6a48-4aaa-9dac-f0cead0e5ca4",
   "metadata": {},
   "source": [
    "Label whether every entry is in PubChem"
   ]
  },
  {
   "cell_type": "code",
   "execution_count": 8,
   "id": "23868304-0d77-4c71-b8fb-889a1830ba5c",
   "metadata": {},
   "outputs": [],
   "source": [
    "qm9['in_pubchem'] = None"
   ]
  },
  {
   "cell_type": "code",
   "execution_count": 9,
   "id": "2f1ec149-45b6-419e-98fc-9ccfa16dc332",
   "metadata": {},
   "outputs": [
    {
     "name": "stderr",
     "output_type": "stream",
     "text": [
      "100%|██████████| 702/702 [23:39<00:00,  2.02s/it]\n"
     ]
    }
   ],
   "source": [
    "for formula, group in tqdm(qm9.groupby('formula')):\n",
    "    known_inchi_keys = get_inchi_keys(formula)\n",
    "    in_pubchem = group['inchi_key'].apply(known_inchi_keys.__contains__)\n",
    "    qm9.loc[in_pubchem.index, 'in_pubchem'] = in_pubchem"
   ]
  },
  {
   "cell_type": "code",
   "execution_count": 10,
   "id": "3df849d5-5e7f-430d-a537-6d5aaa978ee9",
   "metadata": {},
   "outputs": [
    {
     "name": "stdout",
     "output_type": "stream",
     "text": [
      "16.9% of QM9 is in PubChem\n"
     ]
    }
   ],
   "source": [
    "frac = qm9['in_pubchem'].mean()\n",
    "print(f'{frac*100:.1f}% of QM9 is in PubChem')"
   ]
  },
  {
   "cell_type": "markdown",
   "id": "8d536e11-9bfe-4a79-9937-61e9808e1d80",
   "metadata": {},
   "source": [
    "Save the content to disk"
   ]
  },
  {
   "cell_type": "code",
   "execution_count": 11,
   "id": "cea4b390-7f17-4075-ac7d-244044a97443",
   "metadata": {},
   "outputs": [],
   "source": [
    "data_dir = Path('data')\n",
    "data_dir.mkdir(exist_ok=True)\n",
    "qm9.to_json(data_dir / 'qm9.json.gz', lines=True, index=False, orient='records')"
   ]
  },
  {
   "cell_type": "code",
   "execution_count": null,
   "id": "3c8e67d8-2fb8-4749-ab57-540bdd1d3b07",
   "metadata": {},
   "outputs": [],
   "source": []
  }
 ],
 "metadata": {
  "kernelspec": {
   "display_name": "emin",
   "language": "python",
   "name": "emin"
  },
  "language_info": {
   "codemirror_mode": {
    "name": "ipython",
    "version": 3
   },
   "file_extension": ".py",
   "mimetype": "text/x-python",
   "name": "python",
   "nbconvert_exporter": "python",
   "pygments_lexer": "ipython3",
   "version": "3.11.5"
  }
 },
 "nbformat": 4,
 "nbformat_minor": 5
}
