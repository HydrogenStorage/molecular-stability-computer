{
 "cells": [
  {
   "cell_type": "markdown",
   "id": "c52c3519-cec0-4fbc-84b4-c6ed2216970a",
   "metadata": {},
   "source": [
    "# Validate on Larger Molecules\n",
    "We ran a series of sugar molecules that have between 10 and XX heavy atoms with Emin, \n",
    "and will use this to: \n",
    "- Test whether Emin is accurate for larger molecules\n",
    "- Verify that only testing against PubChem is a good decision\n",
    "- [TBD] Quantify the runtime as a function of stoichiometry and setting choice"
   ]
  },
  {
   "cell_type": "code",
   "execution_count": 1,
   "id": "6e3ff8eb-8251-4156-bf2f-45292c33e1ac",
   "metadata": {
    "tags": []
   },
   "outputs": [],
   "source": [
    "%matplotlib inline\n",
    "from matplotlib import pyplot as plt\n",
    "from emin.source import get_inchi_keys_from_pubchem\n",
    "from pathlib import Path\n",
    "from tqdm import tqdm\n",
    "import pandas as pd\n",
    "import numpy as np\n",
    "import re"
   ]
  },
  {
   "cell_type": "markdown",
   "id": "23e33d62-316b-4f6b-a436-ea4ae8953cf6",
   "metadata": {},
   "source": [
    "## Load Runs\n",
    "Get the data across many runs of Emin"
   ]
  },
  {
   "cell_type": "code",
   "execution_count": 2,
   "id": "56635d72-c7ff-47db-8d10-46171e30c8d3",
   "metadata": {
    "tags": []
   },
   "outputs": [
    {
     "name": "stdout",
     "output_type": "stream",
     "text": [
      "Found 8 runs\n"
     ]
    }
   ],
   "source": [
    "run_paths = list(Path('../runs/').glob('*/energies.csv'))\n",
    "print(f'Found {len(run_paths)} runs')"
   ]
  },
  {
   "cell_type": "code",
   "execution_count": 3,
   "id": "bd59a5cf-280b-4439-83dd-764d31414207",
   "metadata": {
    "tags": []
   },
   "outputs": [],
   "source": [
    "def load_run(path: Path) -> pd.DataFrame:\n",
    "    \"\"\"Load the results from a compute_emin run\n",
    "    \n",
    "    Args:\n",
    "        path: Path to the energies.csv file\n",
    "    Returns:\n",
    "        Dataframe describing the run\n",
    "    \"\"\"\n",
    "    \n",
    "    # Load the full dataset\n",
    "    data = pd.read_csv(path)\n",
    "    if 'xyz' in data.columns:\n",
    "        data.drop(columns=['xyz'], inplace=True)\n",
    "        \n",
    "    \n",
    "    # Add the formula and whether each molecule is in pubchem\n",
    "    formula = path.parent.name\n",
    "    data['formula'] = formula\n",
    "    \n",
    "    pubchem_keys = get_inchi_keys_from_pubchem(formula)\n",
    "    data['in_pubchem'] = data['inchi_key'].apply(pubchem_keys.__contains__)\n",
    "    \n",
    "    # Get the heavy atom count\n",
    "    heavy_count = sum(map(int, re.findall(r'(?:[A-GI-Z]|[A-Z][a-z])(\\d+)', formula)))\n",
    "    data['heavy_count'] = heavy_count\n",
    "    \n",
    "    return data"
   ]
  },
  {
   "cell_type": "code",
   "execution_count": 4,
   "id": "d2b8b16b-5f68-4cd6-bec6-aeaa511c62ec",
   "metadata": {
    "tags": []
   },
   "outputs": [
    {
     "name": "stderr",
     "output_type": "stream",
     "text": [
      "100%|███████████████████████████████████████████████████████████████████████████████████████████████████████████████████████████████████████████████████████████████████████████████████████████████████████████████████████████████████████████████████████| 8/8 [00:18<00:00,  2.29s/it]\n"
     ]
    },
    {
     "name": "stdout",
     "output_type": "stream",
     "text": [
      "Loaded 2064981 energy evaluations for 2064443 molecules larger than 9 heavy atoms\n"
     ]
    }
   ],
   "source": [
    "data = pd.concat([load_run(p) for p in tqdm(run_paths)], ignore_index=True).query('heavy_count > 9')\n",
    "print(f'Loaded {len(data)} energy evaluations for {len(data[\"inchi_key\"].value_counts())} molecules larger than 9 heavy atoms')"
   ]
  },
  {
   "cell_type": "markdown",
   "id": "21871dac-f5f8-4ae0-903d-d9b84a33076f",
   "metadata": {},
   "source": [
    "## Compute E_min for these larger molecules\n",
    "At each level of fidelity available using all tested molecules"
   ]
  },
  {
   "cell_type": "code",
   "execution_count": 5,
   "id": "3d44f74d-4b34-439c-ac3f-afa90b08b1f9",
   "metadata": {
    "tags": []
   },
   "outputs": [],
   "source": [
    "level_names = ['formula', 'level', 'relax']\n",
    "data['emin'] = None\n",
    "for _, group in data.groupby(level_names):\n",
    "    emin = (group['energy'] - group['energy'].min()).values\n",
    "    data.loc[group.index, 'emin'] = emin"
   ]
  },
  {
   "cell_type": "markdown",
   "id": "b2e01062-0214-4cb3-b1fe-e3cbee805a21",
   "metadata": {},
   "source": [
    "Compare only for xTB with relaxation"
   ]
  },
  {
   "cell_type": "code",
   "execution_count": 6,
   "id": "ab901cb3-f7b8-4820-9c4c-dad206445bd0",
   "metadata": {
    "tags": []
   },
   "outputs": [
    {
     "name": "stdout",
     "output_type": "stream",
     "text": [
      "Pulled 711043 molecules at the target level\n"
     ]
    }
   ],
   "source": [
    "xtb_relax = data.query('level == \"xtb\" and relax')\n",
    "print(f'Pulled {len(xtb_relax)} molecules at the target level')"
   ]
  },
  {
   "cell_type": "code",
   "execution_count": 7,
   "id": "056c2383-6991-4cf5-a2f2-baeb46b032e6",
   "metadata": {
    "tags": []
   },
   "outputs": [
    {
     "name": "stdout",
     "output_type": "stream",
     "text": [
      "6853 are in PubChem\n"
     ]
    }
   ],
   "source": [
    "in_pc = xtb_relax['in_pubchem'].sum()\n",
    "print(f'{in_pc} are in PubChem')"
   ]
  },
  {
   "cell_type": "code",
   "execution_count": 8,
   "id": "1d1e8409-fd8d-4649-8451-aa3d87af9e02",
   "metadata": {
    "tags": []
   },
   "outputs": [
    {
     "data": {
      "image/png": "[encoded data removed]",
      "text/plain": [
       "<Figure size 350x200 with 1 Axes>"
      ]
     },
     "metadata": {},
     "output_type": "display_data"
    }
   ],
   "source": [
    "fig, ax = plt.subplots(figsize=(3.5, 2.))\n",
    "\n",
    "all_reported = xtb_relax.query('in_pubchem')\n",
    "all_unreported = xtb_relax.query('not in_pubchem')\n",
    "\n",
    "bins = np.linspace(0, 0.4, 128)\n",
    "ax.hist(all_reported['emin'], bins=bins, color='crimson', label='Reported',density=True,alpha=0.5)\n",
    "ax.hist(all_unreported['emin'], bins=bins, color='gray', label='Unreported',density=True,alpha=0.5)\n",
    "ax.legend()\n",
    "\n",
    "ax.set_xlabel(r'$E_{min}$ (Ha)')\n",
    "ax.set_ylabel('Probability Density')\n",
    "\n",
    "plt.savefig('figures/emin_dist-large-molecules.png', dpi=320)"
   ]
  },
  {
   "cell_type": "markdown",
   "id": "a2307c76-cc6b-4dc6-9822-621d4d9cc71e",
   "metadata": {},
   "source": [
    "We see the same \"molecules over 200 mHa are rarely reported\" trend"
   ]
  },
  {
   "cell_type": "markdown",
   "id": "d16df507-17e6-41ca-a5a7-d9e9d4edb2ab",
   "metadata": {},
   "source": [
    "## Verify Only Searching PubChem is a Good Idea\n",
    "We can drastically speed up Emin by only computing the energies of molecules in PubChem to find the lowest-energy conformer"
   ]
  },
  {
   "cell_type": "code",
   "execution_count": 9,
   "id": "b01df841-0f29-438e-b560-bad75a9755cf",
   "metadata": {
    "tags": []
   },
   "outputs": [],
   "source": [
    "level_names = ['formula', 'level', 'relax']\n",
    "data['emin'] = None\n",
    "for _, group in data.groupby(level_names):\n",
    "    emin = (group['energy'] - group.query('in_pubchem')['energy'].min()).values\n",
    "    data.loc[group.index, 'emin-pc'] = emin"
   ]
  },
  {
   "cell_type": "markdown",
   "id": "69dfd1de-3ce9-4c11-a295-0e217b92facf",
   "metadata": {},
   "source": [
    "Repeat the plot without PubChem"
   ]
  },
  {
   "cell_type": "code",
   "execution_count": 10,
   "id": "4d46012c-a544-4162-9895-b9386e65acee",
   "metadata": {
    "tags": []
   },
   "outputs": [
    {
     "name": "stdout",
     "output_type": "stream",
     "text": [
      "Pulled 711043 molecules at the target level\n"
     ]
    }
   ],
   "source": [
    "xtb_relax = data.query('level == \"xtb\" and relax')\n",
    "print(f'Pulled {len(xtb_relax)} molecules at the target level')"
   ]
  },
  {
   "cell_type": "code",
   "execution_count": 11,
   "id": "46f48e20-9a00-44a3-b83a-f0632481fcff",
   "metadata": {
    "tags": []
   },
   "outputs": [
    {
     "data": {
      "text/plain": [
       "Text(0, 0.5, 'Probability Density')"
      ]
     },
     "execution_count": 11,
     "metadata": {},
     "output_type": "execute_result"
    },
    {
     "data": {
      "image/png": "[encoded data removed]",
      "text/plain": [
       "<Figure size 350x200 with 1 Axes>"
      ]
     },
     "metadata": {},
     "output_type": "display_data"
    }
   ],
   "source": [
    "fig, ax = plt.subplots(figsize=(3.5, 2.))\n",
    "\n",
    "all_reported = xtb_relax.query('in_pubchem')\n",
    "all_unreported = xtb_relax.query('not in_pubchem')\n",
    "\n",
    "bins = np.linspace(0, 0.4, 128)\n",
    "ax.hist(all_reported['emin-pc'], bins=bins, color='crimson', label='Reported',density=True,alpha=0.5)\n",
    "ax.hist(all_unreported['emin-pc'], bins=bins, color='gray', label='Unreported',density=True,alpha=0.5)\n",
    "ax.legend()\n",
    "\n",
    "ax.set_xlabel(r'$E_{min}$ (Ha)')\n",
    "ax.set_ylabel('Probability Density')"
   ]
  },
  {
   "cell_type": "markdown",
   "id": "dbf6c9be-a594-4e9a-9940-105ec6230932",
   "metadata": {},
   "source": [
    "There's not a qualitative difference."
   ]
  },
  {
   "cell_type": "code",
   "execution_count": null,
   "id": "b4ceac1d-0c31-44b7-8700-8f8c8d781d2d",
   "metadata": {},
   "outputs": [],
   "source": []
  }
 ],
 "metadata": {
  "kernelspec": {
   "display_name": "Python 3 (ipykernel)",
   "language": "python",
   "name": "python3"
  },
  "language_info": {
   "codemirror_mode": {
    "name": "ipython",
    "version": 3
   },
   "file_extension": ".py",
   "mimetype": "text/x-python",
   "name": "python",
   "nbconvert_exporter": "python",
   "pygments_lexer": "ipython3",
   "version": "3.11.5"
  }
 },
 "nbformat": 4,
 "nbformat_minor": 5
}
